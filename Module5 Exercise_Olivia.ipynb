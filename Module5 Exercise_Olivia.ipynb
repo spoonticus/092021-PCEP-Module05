{
 "cells": [
  {
   "cell_type": "markdown",
   "metadata": {},
   "source": [
    "1. Round 4.5667 to the nearest hundreth using a build-in function, round()."
   ]
  },
  {
   "cell_type": "code",
   "execution_count": 2,
   "metadata": {},
   "outputs": [
    {
     "name": "stdout",
     "output_type": "stream",
     "text": [
      "4.57\n"
     ]
    }
   ],
   "source": [
    "print(round(4.5667, 2))"
   ]
  },
  {
   "cell_type": "markdown",
   "metadata": {},
   "source": [
    "2. Convert \"657\" to an integer data type"
   ]
  },
  {
   "cell_type": "code",
   "execution_count": 2,
   "metadata": {},
   "outputs": [
    {
     "data": {
      "text/plain": [
       "657"
      ]
     },
     "execution_count": 2,
     "metadata": {},
     "output_type": "execute_result"
    }
   ],
   "source": [
    "int(\"657\")"
   ]
  },
  {
   "cell_type": "markdown",
   "metadata": {},
   "source": [
    "3.\n",
    "Write a program to get two numbers from a user. Then, create a secret code where a code consists of 6 numbers and each number is randomly generated number between two numbers from a user. "
   ]
  },
  {
   "cell_type": "code",
   "execution_count": 12,
   "metadata": {},
   "outputs": [
    {
     "name": "stdout",
     "output_type": "stream",
     "text": [
      "Enter First Number: 1\n",
      "Enter Second Number: 10\n",
      "[4, 6, 3, 5, 8, 5]\n",
      "4, 6, 3, 5, 8, 5\n"
     ]
    }
   ],
   "source": [
    "import random\n",
    "\n",
    "#user input as int\n",
    "first_number = int(input(\"Enter First Number: \"))\n",
    "second_number = int(input(\"Enter Second Number: \"))\n",
    "\n",
    "#outter function\n",
    "def generate_six_numbers(first, second):\n",
    "    #create an empty list \n",
    "    random_list = []\n",
    "    #inner function, accepts a list to append\n",
    "    def generate_secret_numbers(x, y, number_list):\n",
    "        #generate a random number 6 times\n",
    "        for _ in range(6):\n",
    "            #each randomly generated number is appened to the list\n",
    "            number_list.append(random.randint(x, y))\n",
    "        #return a list of 6 random numbers \n",
    "        return number_list \n",
    "    #call inner function and return a list of 6 random numbers\n",
    "    return generate_secret_numbers(first, second, random_list)\n",
    "\n",
    "#assign to a homogeneous list of int to be used\n",
    "random_number_list = generate_six_numbers(first_number, second_number)\n",
    "print(random_number_list)\n",
    "\n",
    "#convert list to string\n",
    "random_number_string = \", \".join([str(num) for num in random_number_list])\n",
    "print(random_number_string)"
   ]
  },
  {
   "cell_type": "markdown",
   "metadata": {},
   "source": [
    "4.\n",
    "Write a program to center align below text where number of characters per line is 40:\n",
    "\n",
    "    Hickory, dickory, dock,\n",
    "    The mouse ran up the clock.\n",
    "    The clock struck one,\n",
    "    The mouse ran down,\n",
    "    Hickory, dickory, dock\n",
    "\n",
    "<b>Do not use string's center method! </b>"
   ]
  },
  {
   "cell_type": "code",
   "execution_count": 23,
   "metadata": {
    "scrolled": true
   },
   "outputs": [
    {
     "name": "stdout",
     "output_type": "stream",
     "text": [
      "        Hickory, dickory, dock,         \n",
      "      The mouse ran up the clock.       \n",
      "         The clock struck one,          \n",
      "          The mouse ran down,           \n",
      "         Hickory, dickory, dock         \n"
     ]
    }
   ],
   "source": [
    "line1 = \"Hickory, dickory, dock,\"\n",
    "line2 = \"The mouse ran up the clock.\"\n",
    "line3 = \"The clock struck one,\"\n",
    "line4 = \"The mouse ran down,\"\n",
    "line5 = \"Hickory, dickory, dock\"\n",
    "\n",
    "line_list = [line1, line2, line3, line4, line5]\n",
    "\n",
    "#constant variable of max characters per line\n",
    "MAXCHAR = 40\n",
    "\n",
    "def center_align_string(text):\n",
    "    lpad = (MAXCHAR - len(text)) // 2\n",
    "    rpad = (MAXCHAR - len(text)) - lpad\n",
    "    center_text = (\" \" * lpad) + text + (\" \" * rpad)\n",
    "\n",
    "    #below code is for left pad only\n",
    "    # (\" \" * ((MAXCHAR - len(text))// 2)) + text\n",
    "    \n",
    "    return center_text\n",
    "\n",
    "#for loop to change all the line to be center align\n",
    "centered_line_list = [center_align_string(line) for line in line_list]\n",
    "\n",
    "for line in centered_line_list:\n",
    "    print(line)"
   ]
  },
  {
   "cell_type": "markdown",
   "metadata": {},
   "source": [
    "5. Write a function to calculate the miles per gallon.\n",
    "Get a miles driven and gallons used from a user and call your function to calculate the miles per gallon. "
   ]
  },
  {
   "cell_type": "code",
   "execution_count": 24,
   "metadata": {},
   "outputs": [
    {
     "name": "stdout",
     "output_type": "stream",
     "text": [
      "Enter Miles Driven: 10\n",
      "Enter Gallons of Gas Used: 1\n",
      "Miles per Gallon:  10.0\n"
     ]
    }
   ],
   "source": [
    "miles = float(input(\"Enter Miles Driven: \"))\n",
    "gallons = float(input(\"Enter Gallons of Gas Used: \"))\n",
    "\n",
    "def calculate_miles_per_gallon(mile, gallon=1):\n",
    "    return mile / gallon\n",
    "\n",
    "user_miles_per_gallon = calculate_miles_per_gallon(miles, gallons)\n",
    "print(\"Miles per Gallon: \", user_miles_per_gallon)\n"
   ]
  }
 ],
 "metadata": {
  "kernelspec": {
   "display_name": "Python 3",
   "language": "python",
   "name": "python3"
  },
  "language_info": {
   "codemirror_mode": {
    "name": "ipython",
    "version": 3
   },
   "file_extension": ".py",
   "mimetype": "text/x-python",
   "name": "python",
   "nbconvert_exporter": "python",
   "pygments_lexer": "ipython3",
   "version": "3.8.8"
  }
 },
 "nbformat": 4,
 "nbformat_minor": 4
}
